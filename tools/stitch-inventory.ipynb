{
 "cells": [
  {
   "cell_type": "code",
   "execution_count": 10,
   "id": "2a79dd12-70fc-4ee8-91cf-8224022ffe90",
   "metadata": {},
   "outputs": [],
   "source": [
    "from matplotlib.cm import get_cmap\n",
    "import numpy as np\n",
    "import pandas as pd\n",
    "import pyrfume\n",
    "from IPython.display import Markdown"
   ]
  },
  {
   "cell_type": "code",
   "execution_count": 11,
   "id": "581f4c8c-9556-47fd-86a8-447cd62affe5",
   "metadata": {},
   "outputs": [
    {
     "name": "stderr",
     "output_type": "stream",
     "text": [
      "C:\\Users\\Travis\\AppData\\Local\\Temp\\ipykernel_4404\\3308915677.py:4: MatplotlibDeprecationWarning: The get_cmap function was deprecated in Matplotlib 3.7 and will be removed two minor releases later. Use ``matplotlib.colormaps[name]`` or ``matplotlib.colormaps.get_cmap(obj)`` instead.\n",
      "  cmap = get_cmap('rainbow')\n"
     ]
    },
    {
     "name": "stdout",
     "output_type": "stream",
     "text": [
      "No manifest found for: qian_2022\n"
     ]
    }
   ],
   "source": [
    "archives = pyrfume.list_archives()\n",
    "all_tags = []\n",
    "manifests = {}\n",
    "cmap = get_cmap('rainbow')\n",
    "\n",
    "# Skip over archives that are not for sole datasources\n",
    "for archive in archives:\n",
    "    if archive not in ['mordred', 'morgan', 'molecules', 'embedding', 'prediction_targets', 'tools']:\n",
    "        try:\n",
    "            manifests[archive] = pyrfume.load_manifest(archive)\n",
    "            tags = manifests[archive]['source'].get('tags')\n",
    "            if tags:\n",
    "                all_tags += tags.split(';')\n",
    "        except:\n",
    "            print('No manifest found for:', archive)"
   ]
  },
  {
   "cell_type": "code",
   "execution_count": 12,
   "id": "ce80d3f0",
   "metadata": {},
   "outputs": [],
   "source": [
    "all_tags = list(set(all_tags))\n",
    "\n",
    "classes = {'source': ['academic'],\n",
    "           'organism': ['rodent', 'human', 'harpegnathos'],\n",
    "           'data': ['odorCharacter', 'intensity', 'receptorResponse', 'pleasantness', 'threshold', 'imaging',\n",
    "                    'familiarity', 'olfactoryBulb', 'electrophysiology'],\n",
    "           'stimuli': ['mixtures']}\n",
    "\n",
    "colors = {all_tags[i]: cmap(x) for i, x in enumerate(np.linspace(0, 1, len(all_tags)))}\n",
    "colors = {key: ''.join([format(int(n*255), '02x') for n in val[:3]]) for key, val in colors.items()}"
   ]
  },
  {
   "cell_type": "code",
   "execution_count": 13,
   "id": "bfc4b8a1",
   "metadata": {},
   "outputs": [],
   "source": [
    "# Check that all the tags listed in manifests are accounted for, if any are missing, need to manually add to\n",
    "# the 'classes' dict above\n",
    "for t in all_tags:\n",
    "    if t not in list(set().union(*classes.values())):\n",
    "        print(t)"
   ]
  },
  {
   "cell_type": "code",
   "execution_count": 18,
   "id": "ecbd53d2",
   "metadata": {},
   "outputs": [],
   "source": [
    "markdown = \"\"\n",
    "\n",
    "for archive, manifest in manifests.items():\n",
    "    markdown += f\"[![{archive}](https://img.shields.io/static/v1?label=&nbsp;&message={archive}&color=eeeeee)](#) \"\n",
    "    tags = manifest['source'].get('tags')\n",
    "    if tags:\n",
    "        for tag in tags.split(';'):\n",
    "            class_options = [key for key, val in classes.items() if tag in val]\n",
    "            class_ = class_options[0] if class_options else '&nbsp;'\n",
    "            badge = f\"[![<{tag}>](https://img.shields.io/static/v1?label={class_}&message={tag}&color={colors.get(tag, '222222')})](#) \"\n",
    "            markdown += badge\n",
    "    markdown += \"<br>\""
   ]
  },
  {
   "cell_type": "code",
   "execution_count": 19,
   "id": "ddc3bcde-1b4b-48b2-9e50-4ba3a2eda303",
   "metadata": {
    "scrolled": true
   },
   "outputs": [
    {
     "data": {
      "text/markdown": [
       "[![abraham_2012](https://img.shields.io/static/v1?label=&nbsp;&message=abraham_2012&color=eeeeee)](#) [![<human>](https://img.shields.io/static/v1?label=organism&message=human&color=ff753c)](#) [![<threshold>](https://img.shields.io/static/v1?label=data&message=threshold&color=1cd1e2)](#) [![<academic>](https://img.shields.io/static/v1?label=source&message=academic&color=3175f7)](#) <br>[![ahmed_2018](https://img.shields.io/static/v1?label=&nbsp;&message=ahmed_2018&color=eeeeee)](#) [![<receptorResponse>](https://img.shields.io/static/v1?label=data&message=receptorResponse&color=ff3b1d)](#) [![<academic>](https://img.shields.io/static/v1?label=source&message=academic&color=3175f7)](#) <br>[![arctander_1960](https://img.shields.io/static/v1?label=&nbsp;&message=arctander_1960&color=eeeeee)](#) [![<human>](https://img.shields.io/static/v1?label=organism&message=human&color=ff753c)](#) [![<odorCharacter>](https://img.shields.io/static/v1?label=data&message=odorCharacter&color=09a9ee)](#) <br>[![aromadb](https://img.shields.io/static/v1?label=&nbsp;&message=aromadb&color=eeeeee)](#) [![<human>](https://img.shields.io/static/v1?label=organism&message=human&color=ff753c)](#) [![<odorCharacter>](https://img.shields.io/static/v1?label=data&message=odorCharacter&color=09a9ee)](#) <br>[![arshamian_2022](https://img.shields.io/static/v1?label=&nbsp;&message=arshamian_2022&color=eeeeee)](#) [![<human>](https://img.shields.io/static/v1?label=organism&message=human&color=ff753c)](#) [![<pleasantness>](https://img.shields.io/static/v1?label=data&message=pleasantness&color=44eed1)](#) [![<academic>](https://img.shields.io/static/v1?label=source&message=academic&color=3175f7)](#) <br>[![bolding_2018](https://img.shields.io/static/v1?label=&nbsp;&message=bolding_2018&color=eeeeee)](#) [![<rodent>](https://img.shields.io/static/v1?label=organism&message=rodent&color=7f00ff)](#) [![<academic>](https://img.shields.io/static/v1?label=source&message=academic&color=3175f7)](#) <br>[![burton_2022](https://img.shields.io/static/v1?label=&nbsp;&message=burton_2022&color=eeeeee)](#) [![<rodent>](https://img.shields.io/static/v1?label=organism&message=rodent&color=7f00ff)](#) [![<receptorResponse>](https://img.shields.io/static/v1?label=data&message=receptorResponse&color=ff3b1d)](#) [![<academic>](https://img.shields.io/static/v1?label=source&message=academic&color=3175f7)](#) <br>[![bushdid_2014](https://img.shields.io/static/v1?label=&nbsp;&message=bushdid_2014&color=eeeeee)](#) [![<human>](https://img.shields.io/static/v1?label=organism&message=human&color=ff753c)](#) [![<odorCharacter>](https://img.shields.io/static/v1?label=data&message=odorCharacter&color=09a9ee)](#) [![<academic>](https://img.shields.io/static/v1?label=source&message=academic&color=3175f7)](#) <br>[![chae_2019](https://img.shields.io/static/v1?label=&nbsp;&message=chae_2019&color=eeeeee)](#) [![<rodent>](https://img.shields.io/static/v1?label=organism&message=rodent&color=7f00ff)](#) [![<receptorResponse>](https://img.shields.io/static/v1?label=data&message=receptorResponse&color=ff3b1d)](#) [![<academic>](https://img.shields.io/static/v1?label=source&message=academic&color=3175f7)](#) <br>[![dravnieks_1985](https://img.shields.io/static/v1?label=&nbsp;&message=dravnieks_1985&color=eeeeee)](#) [![<human>](https://img.shields.io/static/v1?label=organism&message=human&color=ff753c)](#) [![<odorCharacter>](https://img.shields.io/static/v1?label=data&message=odorCharacter&color=09a9ee)](#) [![<academic>](https://img.shields.io/static/v1?label=source&message=academic&color=3175f7)](#) <br>[![flavordb](https://img.shields.io/static/v1?label=&nbsp;&message=flavordb&color=eeeeee)](#) [![<human>](https://img.shields.io/static/v1?label=organism&message=human&color=ff753c)](#) [![<odorCharacter>](https://img.shields.io/static/v1?label=data&message=odorCharacter&color=09a9ee)](#) <br>[![flavornet](https://img.shields.io/static/v1?label=&nbsp;&message=flavornet&color=eeeeee)](#) [![<human>](https://img.shields.io/static/v1?label=organism&message=human&color=ff753c)](#) [![<odorCharacter>](https://img.shields.io/static/v1?label=data&message=odorCharacter&color=09a9ee)](#) <br>[![foodb](https://img.shields.io/static/v1?label=&nbsp;&message=foodb&color=eeeeee)](#) [![<human>](https://img.shields.io/static/v1?label=organism&message=human&color=ff753c)](#) [![<odorCharacter>](https://img.shields.io/static/v1?label=data&message=odorCharacter&color=09a9ee)](#) <br>[![foodcomex](https://img.shields.io/static/v1?label=&nbsp;&message=foodcomex&color=eeeeee)](#) <br>[![fragrancedb](https://img.shields.io/static/v1?label=&nbsp;&message=fragrancedb&color=eeeeee)](#) <br>[![freesolve](https://img.shields.io/static/v1?label=&nbsp;&message=freesolve&color=eeeeee)](#) [![<human>](https://img.shields.io/static/v1?label=organism&message=human&color=ff753c)](#) [![<odorCharacter>](https://img.shields.io/static/v1?label=data&message=odorCharacter&color=09a9ee)](#) <br>[![goodscents](https://img.shields.io/static/v1?label=&nbsp;&message=goodscents&color=eeeeee)](#) [![<human>](https://img.shields.io/static/v1?label=organism&message=human&color=ff753c)](#) [![<odorCharacter>](https://img.shields.io/static/v1?label=data&message=odorCharacter&color=09a9ee)](#) <br>[![gras](https://img.shields.io/static/v1?label=&nbsp;&message=gras&color=eeeeee)](#) <br>[![haddad_2008](https://img.shields.io/static/v1?label=&nbsp;&message=haddad_2008&color=eeeeee)](#) [![<human>](https://img.shields.io/static/v1?label=organism&message=human&color=ff753c)](#) [![<rodent>](https://img.shields.io/static/v1?label=organism&message=rodent&color=7f00ff)](#) [![<academic>](https://img.shields.io/static/v1?label=source&message=academic&color=3175f7)](#) <br>[![ifra_2019](https://img.shields.io/static/v1?label=&nbsp;&message=ifra_2019&color=eeeeee)](#) [![<human>](https://img.shields.io/static/v1?label=organism&message=human&color=ff753c)](#) [![<odorCharacter>](https://img.shields.io/static/v1?label=data&message=odorCharacter&color=09a9ee)](#) <br>[![iurilli_2017](https://img.shields.io/static/v1?label=&nbsp;&message=iurilli_2017&color=eeeeee)](#) [![<rodent>](https://img.shields.io/static/v1?label=organism&message=rodent&color=7f00ff)](#) [![<academic>](https://img.shields.io/static/v1?label=source&message=academic&color=3175f7)](#) <br>[![jones_2019](https://img.shields.io/static/v1?label=&nbsp;&message=jones_2019&color=eeeeee)](#) [![<rodent>](https://img.shields.io/static/v1?label=organism&message=rodent&color=7f00ff)](#) [![<receptorResponse>](https://img.shields.io/static/v1?label=data&message=receptorResponse&color=ff3b1d)](#) [![<academic>](https://img.shields.io/static/v1?label=source&message=academic&color=3175f7)](#) [![<threshold>](https://img.shields.io/static/v1?label=data&message=threshold&color=1cd1e2)](#) <br>[![keller_2012](https://img.shields.io/static/v1?label=&nbsp;&message=keller_2012&color=eeeeee)](#) [![<human>](https://img.shields.io/static/v1?label=organism&message=human&color=ff753c)](#) [![<intensity>](https://img.shields.io/static/v1?label=data&message=intensity&color=baee90)](#) [![<pleasantness>](https://img.shields.io/static/v1?label=data&message=pleasantness&color=44eed1)](#) [![<odorCharacter>](https://img.shields.io/static/v1?label=data&message=odorCharacter&color=09a9ee)](#) [![<threshold>](https://img.shields.io/static/v1?label=data&message=threshold&color=1cd1e2)](#) [![<academic>](https://img.shields.io/static/v1?label=source&message=academic&color=3175f7)](#) <br>[![keller_2016](https://img.shields.io/static/v1?label=&nbsp;&message=keller_2016&color=eeeeee)](#) [![<human>](https://img.shields.io/static/v1?label=organism&message=human&color=ff753c)](#) [![<intensity>](https://img.shields.io/static/v1?label=data&message=intensity&color=baee90)](#) [![<pleasantness>](https://img.shields.io/static/v1?label=data&message=pleasantness&color=44eed1)](#) [![<familiarity>](https://img.shields.io/static/v1?label=data&message=familiarity&color=6cfdbe)](#) [![<odorCharacter>](https://img.shields.io/static/v1?label=data&message=odorCharacter&color=09a9ee)](#) [![<academic>](https://img.shields.io/static/v1?label=source&message=academic&color=3175f7)](#) <br>[![knapsack](https://img.shields.io/static/v1?label=&nbsp;&message=knapsack&color=eeeeee)](#) <br>[![leffingwell](https://img.shields.io/static/v1?label=&nbsp;&message=leffingwell&color=eeeeee)](#) [![<human>](https://img.shields.io/static/v1?label=organism&message=human&color=ff753c)](#) [![<odorCharacter>](https://img.shields.io/static/v1?label=data&message=odorCharacter&color=09a9ee)](#) <br>[![leon](https://img.shields.io/static/v1?label=&nbsp;&message=leon&color=eeeeee)](#) [![<rodent>](https://img.shields.io/static/v1?label=organism&message=rodent&color=7f00ff)](#) [![<imaging>](https://img.shields.io/static/v1?label=data&message=imaging&color=ffa95a)](#) [![<olfactoryBulb>](https://img.shields.io/static/v1?label=data&message=olfactoryBulb&color=ff0000)](#) <br>[![ma_2012](https://img.shields.io/static/v1?label=&nbsp;&message=ma_2012&color=eeeeee)](#) [![<rodent>](https://img.shields.io/static/v1?label=organism&message=rodent&color=7f00ff)](#) [![<receptorResponse>](https://img.shields.io/static/v1?label=data&message=receptorResponse&color=ff3b1d)](#) [![<academic>](https://img.shields.io/static/v1?label=source&message=academic&color=3175f7)](#) <br>[![ma_2021](https://img.shields.io/static/v1?label=&nbsp;&message=ma_2021&color=eeeeee)](#) [![<human>](https://img.shields.io/static/v1?label=organism&message=human&color=ff753c)](#) [![<intensity>](https://img.shields.io/static/v1?label=data&message=intensity&color=baee90)](#) [![<pleasantness>](https://img.shields.io/static/v1?label=data&message=pleasantness&color=44eed1)](#) [![<mixtures>](https://img.shields.io/static/v1?label=stimuli&message=mixtures&color=92fda9)](#) [![<academic>](https://img.shields.io/static/v1?label=source&message=academic&color=3175f7)](#) <br>[![mainland_2015](https://img.shields.io/static/v1?label=&nbsp;&message=mainland_2015&color=eeeeee)](#) [![<human>](https://img.shields.io/static/v1?label=organism&message=human&color=ff753c)](#) [![<receptorResponse>](https://img.shields.io/static/v1?label=data&message=receptorResponse&color=ff3b1d)](#) [![<academic>](https://img.shields.io/static/v1?label=source&message=academic&color=3175f7)](#) <br>[![manoel_2021](https://img.shields.io/static/v1?label=&nbsp;&message=manoel_2021&color=eeeeee)](#) [![<rodent>](https://img.shields.io/static/v1?label=organism&message=rodent&color=7f00ff)](#) [![<odorCharacter>](https://img.shields.io/static/v1?label=data&message=odorCharacter&color=09a9ee)](#) [![<academic>](https://img.shields.io/static/v1?label=source&message=academic&color=3175f7)](#) <br>[![mayhew_2022](https://img.shields.io/static/v1?label=&nbsp;&message=mayhew_2022&color=eeeeee)](#) [![<human>](https://img.shields.io/static/v1?label=organism&message=human&color=ff753c)](#) [![<academic>](https://img.shields.io/static/v1?label=source&message=academic&color=3175f7)](#) <br>[![nagappan_2021](https://img.shields.io/static/v1?label=&nbsp;&message=nagappan_2021&color=eeeeee)](#) [![<rodent>](https://img.shields.io/static/v1?label=organism&message=rodent&color=7f00ff)](#) [![<academic>](https://img.shields.io/static/v1?label=source&message=academic&color=3175f7)](#) [![<electrophysiology>](https://img.shields.io/static/v1?label=data&message=electrophysiology&color=593bfd)](#) <br>[![nakayama_2022](https://img.shields.io/static/v1?label=&nbsp;&message=nakayama_2022&color=eeeeee)](#) [![<rodent>](https://img.shields.io/static/v1?label=organism&message=rodent&color=7f00ff)](#) [![<odorCharacter>](https://img.shields.io/static/v1?label=data&message=odorCharacter&color=09a9ee)](#) [![<academic>](https://img.shields.io/static/v1?label=source&message=academic&color=3175f7)](#) <br>[![nat_geo_1986](https://img.shields.io/static/v1?label=&nbsp;&message=nat_geo_1986&color=eeeeee)](#) [![<human>](https://img.shields.io/static/v1?label=organism&message=human&color=ff753c)](#) [![<odorCharacter>](https://img.shields.io/static/v1?label=data&message=odorCharacter&color=09a9ee)](#) <br>[![nhanes_2014](https://img.shields.io/static/v1?label=&nbsp;&message=nhanes_2014&color=eeeeee)](#) [![<human>](https://img.shields.io/static/v1?label=organism&message=human&color=ff753c)](#) [![<odorCharacter>](https://img.shields.io/static/v1?label=data&message=odorCharacter&color=09a9ee)](#) <br>[![optical_rotation](https://img.shields.io/static/v1?label=&nbsp;&message=optical_rotation&color=eeeeee)](#) <br>[![prestwick](https://img.shields.io/static/v1?label=&nbsp;&message=prestwick&color=eeeeee)](#) <br>[![ravia_2020](https://img.shields.io/static/v1?label=&nbsp;&message=ravia_2020&color=eeeeee)](#) [![<human>](https://img.shields.io/static/v1?label=organism&message=human&color=ff753c)](#) [![<odorCharacter>](https://img.shields.io/static/v1?label=data&message=odorCharacter&color=09a9ee)](#) [![<mixtures>](https://img.shields.io/static/v1?label=stimuli&message=mixtures&color=92fda9)](#) [![<academic>](https://img.shields.io/static/v1?label=source&message=academic&color=3175f7)](#) <br>[![scott_2014](https://img.shields.io/static/v1?label=&nbsp;&message=scott_2014&color=eeeeee)](#) [![<rodent>](https://img.shields.io/static/v1?label=organism&message=rodent&color=7f00ff)](#) [![<academic>](https://img.shields.io/static/v1?label=source&message=academic&color=3175f7)](#) <br>[![sharma_2021a](https://img.shields.io/static/v1?label=&nbsp;&message=sharma_2021a&color=eeeeee)](#) [![<odorCharacter>](https://img.shields.io/static/v1?label=data&message=odorCharacter&color=09a9ee)](#) <br>[![sharma_2021b](https://img.shields.io/static/v1?label=&nbsp;&message=sharma_2021b&color=eeeeee)](#) [![<human>](https://img.shields.io/static/v1?label=organism&message=human&color=ff753c)](#) [![<odorCharacter>](https://img.shields.io/static/v1?label=data&message=odorCharacter&color=09a9ee)](#) <br>[![sigma_2014](https://img.shields.io/static/v1?label=&nbsp;&message=sigma_2014&color=eeeeee)](#) [![<human>](https://img.shields.io/static/v1?label=organism&message=human&color=ff753c)](#) [![<odorCharacter>](https://img.shields.io/static/v1?label=data&message=odorCharacter&color=09a9ee)](#) <br>[![slone_2017](https://img.shields.io/static/v1?label=&nbsp;&message=slone_2017&color=eeeeee)](#) [![<harpegnathos>](https://img.shields.io/static/v1?label=organism&message=harpegnathos&color=e2d175)](#) [![<receptorResponse>](https://img.shields.io/static/v1?label=data&message=receptorResponse&color=ff3b1d)](#) [![<academic>](https://img.shields.io/static/v1?label=source&message=academic&color=3175f7)](#) <br>[![snitz_2013](https://img.shields.io/static/v1?label=&nbsp;&message=snitz_2013&color=eeeeee)](#) [![<human>](https://img.shields.io/static/v1?label=organism&message=human&color=ff753c)](#) [![<odorCharacter>](https://img.shields.io/static/v1?label=data&message=odorCharacter&color=09a9ee)](#) [![<mixtures>](https://img.shields.io/static/v1?label=stimuli&message=mixtures&color=92fda9)](#) [![<academic>](https://img.shields.io/static/v1?label=source&message=academic&color=3175f7)](#) <br>[![snitz_2019](https://img.shields.io/static/v1?label=&nbsp;&message=snitz_2019&color=eeeeee)](#) [![<human>](https://img.shields.io/static/v1?label=organism&message=human&color=ff753c)](#) [![<intensity>](https://img.shields.io/static/v1?label=data&message=intensity&color=baee90)](#) [![<odorCharacter>](https://img.shields.io/static/v1?label=data&message=odorCharacter&color=09a9ee)](#) [![<academic>](https://img.shields.io/static/v1?label=source&message=academic&color=3175f7)](#) <br>[![soh_2013](https://img.shields.io/static/v1?label=&nbsp;&message=soh_2013&color=eeeeee)](#) [![<rodent>](https://img.shields.io/static/v1?label=organism&message=rodent&color=7f00ff)](#) <br>[![superscent](https://img.shields.io/static/v1?label=&nbsp;&message=superscent&color=eeeeee)](#) <br>[![t3db](https://img.shields.io/static/v1?label=&nbsp;&message=t3db&color=eeeeee)](#) <br>[![wakayama_2019](https://img.shields.io/static/v1?label=&nbsp;&message=wakayama_2019&color=eeeeee)](#) [![<human>](https://img.shields.io/static/v1?label=organism&message=human&color=ff753c)](#) [![<intensity>](https://img.shields.io/static/v1?label=data&message=intensity&color=baee90)](#) <br>[![weiss_2012](https://img.shields.io/static/v1?label=&nbsp;&message=weiss_2012&color=eeeeee)](#) [![<human>](https://img.shields.io/static/v1?label=organism&message=human&color=ff753c)](#) [![<odorCharacter>](https://img.shields.io/static/v1?label=data&message=odorCharacter&color=09a9ee)](#) [![<academic>](https://img.shields.io/static/v1?label=source&message=academic&color=3175f7)](#) <br>[![yu_2015](https://img.shields.io/static/v1?label=&nbsp;&message=yu_2015&color=eeeeee)](#) [![<receptorResponse>](https://img.shields.io/static/v1?label=data&message=receptorResponse&color=ff3b1d)](#) [![<academic>](https://img.shields.io/static/v1?label=source&message=academic&color=3175f7)](#) <br>"
      ],
      "text/plain": [
       "<IPython.core.display.Markdown object>"
      ]
     },
     "execution_count": 19,
     "metadata": {},
     "output_type": "execute_result"
    }
   ],
   "source": [
    "Markdown(markdown)"
   ]
  },
  {
   "cell_type": "code",
   "execution_count": 21,
   "id": "a5ef8012-ee16-4675-9334-37552f120580",
   "metadata": {},
   "outputs": [],
   "source": [
    "# Write to inventory.md\n",
    "with open('inventory.md', 'w') as f:\n",
    "    f.write(markdown)"
   ]
  },
  {
   "cell_type": "code",
   "execution_count": 22,
   "id": "ba3618d8",
   "metadata": {},
   "outputs": [],
   "source": [
    "# Update README.md to display current inventory on Pyrfume-Data main page\n",
    "with open('../README.md', 'r') as f:\n",
    "    readme = [line for line in f]\n",
    "    \n",
    "readme[-1] = markdown\n",
    "\n",
    "with open('../README.md', 'w') as f:\n",
    "    for line in readme:\n",
    "        f.write(line)"
   ]
  }
 ],
 "metadata": {
  "kernelspec": {
   "display_name": "Python 3 (ipykernel)",
   "language": "python",
   "name": "python3"
  },
  "language_info": {
   "codemirror_mode": {
    "name": "ipython",
    "version": 3
   },
   "file_extension": ".py",
   "mimetype": "text/x-python",
   "name": "python",
   "nbconvert_exporter": "python",
   "pygments_lexer": "ipython3",
   "version": "3.9.12"
  }
 },
 "nbformat": 4,
 "nbformat_minor": 5
}
